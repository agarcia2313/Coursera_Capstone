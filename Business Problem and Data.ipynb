{
    "cells": [
        {
            "metadata": {
                "collapsed": true
            },
            "cell_type": "markdown",
            "source": "# Capstone Project - The Batttle of the Neighborhoods W4 Business Problem and Data Section"
        },
        {
            "metadata": {},
            "cell_type": "markdown",
            "source": "Now that you have been equipped with the skills and the tools to use location data to explore a geographical location, over the course of two weeks, you will have the opportunity to be as creative as you want and come up with an idea to leverage the Foursquare location data to explore or compare neighborhoods or cities of your choice or to come up with a problem that you can use the Foursquare location data to solve. If you cannot think of an idea or a problem, here are some ideas to get you started:"
        },
        {
            "metadata": {},
            "cell_type": "markdown",
            "source": "1. In Module 3, we explored New York City and the city of Toronto and segmented and clustered their neighborhoods. Both cities are very diverse and are the financial capitals of their respective countries. One interesting idea would be to compare the neighborhoods of the two cities and determine how similar or dissimilar they are. Is New York City more like Toronto or Paris or some other multicultural city? I will leave it to you to refine this idea."
        },
        {
            "metadata": {},
            "cell_type": "markdown",
            "source": "2. In a city of your choice, if someone is looking to open a restaurant, where would you recommend that they open it? Similarly, if a contractor is trying to start their own business, where would you recommend that they setup their office?"
        },
        {
            "metadata": {},
            "cell_type": "markdown",
            "source": "These are just a couple of many ideas and problems that can be solved using location data in addition to other datasets. No matter what you decide to do, make sure to provide sufficient justification of why you think what you want to do or solve is important and why would a client or a group of people be interested in your project."
        },
        {
            "metadata": {},
            "cell_type": "markdown",
            "source": "## 1. Business Problem"
        },
        {
            "metadata": {},
            "cell_type": "markdown",
            "source": "Clearly define a problem or an idea of your choice, where you would need to leverage the Foursquare location data to solve or execute. Remember that data science problems always target an audience and are meant to help a group of stakeholders solve a problem, so make sure that you explicitly describe your audience and why they would care about your problem."
        },
        {
            "metadata": {},
            "cell_type": "markdown",
            "source": "This submission will eventually become your Introduction/Business Problem section in your final report. So I recommend that you push the report (having your Introduction/Business Problem section only for now) to your Github repository and submit a link to it."
        },
        {
            "metadata": {},
            "cell_type": "markdown",
            "source": "#### The problem that is to be solved is where in Toronto is the best neighborhood to live in based on population and average income of the area. Other factors to take into account are what kind of ammenties, shops, or resturants are in the area. \n\n#### Using poplutation information will tell the client if the area is too crowded or less crowded which may lead to more space or land to purchase. Average income of a neighborhood may tell the client what type of residents live there as well as what kind of homes may be avaliable as higher income neighborhoods may have better homes avaliable and safer neighborhoods. Foursquare would provide information on what kind of ammenties, shops, and resturants are in the area that our client may want to visit regularly if they were to choose that neighborhood. "
        },
        {
            "metadata": {},
            "cell_type": "markdown",
            "source": "## 2. Data"
        },
        {
            "metadata": {},
            "cell_type": "markdown",
            "source": "Describe the data that you will be using to solve the problem or execute your idea. Remember that you will need to use the Foursquare location data to solve the problem or execute your idea. You can absolutely use other datasets in combination with the Foursquare location data. So make sure that you provide adequate explanation and discussion, with examples, of the data that you will be using, even if it is only Foursquare location data."
        },
        {
            "metadata": {},
            "cell_type": "markdown",
            "source": "This submission will eventually become your Data section in your final report. So I recommend that you push the report (having your Data section) to your Github repository and submit a link to it."
        },
        {
            "metadata": {},
            "cell_type": "markdown",
            "source": "#### In order to provide necessary information to our client, Toronto cenus data including population, average income per neighborhood with Foursquare API to collect data for ammenties in each neighborhood.\n\n#### Data to be used in this project will be as follows:\n#### List of postal codes of Canada Wikipedia for neighborhoods: https://en.wikipedia.org/wiki/List_of_postal_codes_of_Canada:_M\n#### Toronto's Cenus Data (publicly avaliable): https://open.toronto.ca/#8c732154-5012-9afe-d0cd-ba3ffc813d5a\n#### Foursquare API data for ammenties, shops, and resturants in each neighborhood of Toronto"
        },
        {
            "metadata": {},
            "cell_type": "code",
            "source": "",
            "execution_count": null,
            "outputs": []
        }
    ],
    "metadata": {
        "kernelspec": {
            "name": "python3",
            "display_name": "Python 3.6",
            "language": "python"
        },
        "language_info": {
            "name": "python",
            "version": "3.6.9",
            "mimetype": "text/x-python",
            "codemirror_mode": {
                "name": "ipython",
                "version": 3
            },
            "pygments_lexer": "ipython3",
            "nbconvert_exporter": "python",
            "file_extension": ".py"
        }
    },
    "nbformat": 4,
    "nbformat_minor": 1
}